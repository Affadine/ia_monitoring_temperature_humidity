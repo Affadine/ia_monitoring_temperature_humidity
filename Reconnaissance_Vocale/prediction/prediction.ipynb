{
 "cells": [
  {
   "cell_type": "code",
   "execution_count": 1,
   "metadata": {},
   "outputs": [],
   "source": [
    "import os\n",
    "\n",
    "import tensorflow as tf\n",
    "from tensorflow import keras\n",
    "from keras.models import load_model\n",
    "import librosa\n",
    "import numpy as np\n",
    "import warnings\n",
    "warnings.filterwarnings('ignore')"
   ]
  },
  {
   "cell_type": "code",
   "execution_count": 2,
   "metadata": {},
   "outputs": [],
   "source": [
    "PATH_MODEL = '../model/model.h5'\n",
    "SAMPLES_TO_CONSIDER = 22050 "
   ]
  },
  {
   "cell_type": "code",
   "execution_count": 3,
   "metadata": {},
   "outputs": [],
   "source": [
    "def extraire_info_audio(file_path,num_mfcc=13, n_fft=2048, hop_length=512):\n",
    "    # Découper L'audio pour assurer la cohérence de la longueur entre les différents fichiers\n",
    "    signal, sample_rate = librosa.load(file_path)\n",
    "\n",
    "    # Le nombre d'echantillon doit être supérieur à un certain seuil \n",
    "    if len(signal) >= SAMPLES_TO_CONSIDER:\n",
    "        # Assurer la cohérence de la longueur du signal\n",
    "        signal = signal[:SAMPLES_TO_CONSIDER]\n",
    "\n",
    "        # Extraire les MFCCs\n",
    "        MFCCs = librosa.feature.mfcc(signal, n_mfcc = num_mfcc, n_fft = n_fft, hop_length = hop_length)\n",
    "        return MFCCs\n",
    "    return []"
   ]
  },
  {
   "cell_type": "code",
   "execution_count": 4,
   "metadata": {},
   "outputs": [],
   "source": [
    "class_names = [\n",
    "        \"right\",\n",
    "        \"off\",\n",
    "        \"left\",\n",
    "        \"down\",\n",
    "        \"_background_noise_\",\n",
    "        \"up\",\n",
    "        \"on\"\n",
    "    ]\n",
    "\n",
    "def prediction(file_path):\n",
    "    \n",
    "    # Charger le modele entrainé\n",
    "    model = load_model(PATH_MODEL)\n",
    "    # charger l'audio pour le découper\n",
    "    signal, sample_rate = librosa.load(file_path)\n",
    "    MFCCs = extraire_info_audio(file_path)\n",
    "    if len(MFCCs) > 0 :\n",
    "        audio_array = tf.expand_dims(MFCCs.T.tolist(),0)\n",
    "        audio_array = audio_array[..., np.newaxis]\n",
    "        predictions = model.predict(audio_array)\n",
    "        score = predictions[0]\n",
    "        print(score)\n",
    "        print(np.argmax(score))\n",
    "        print(\"Valeur prédit est : \" + class_names[np.argmax(score)] + \" avec une confiance de \"\n",
    "              + str(100 * np.max(score)) +\"%\")\n",
    "        print()\n"
   ]
  },
  {
   "cell_type": "code",
   "execution_count": 5,
   "metadata": {},
   "outputs": [
    {
     "name": "stdout",
     "output_type": "stream",
     "text": [
      "[0.01938195 0.05775663 0.04028965 0.02969119 0.0115528  0.7813863\n",
      " 0.05994143]\n",
      "5\n",
      "Valeur prédit est : up avec une confiance de 78.13863158226013%\n",
      "\n",
      "[0.01664314 0.5804005  0.05346676 0.00749971 0.01124552 0.31215245\n",
      " 0.01859186]\n",
      "1\n",
      "Valeur prédit est : off avec une confiance de 58.04005265235901%\n",
      "\n",
      "[3.4398269e-03 6.9495025e-03 7.6176681e-02 8.6130238e-01 1.5330128e-04\n",
      " 2.9406283e-02 2.2572024e-02]\n",
      "3\n",
      "Valeur prédit est : down avec une confiance de 86.1302375793457%\n",
      "\n",
      "[0.06625287 0.07249124 0.46868366 0.08532019 0.01992061 0.26013747\n",
      " 0.02719401]\n",
      "2\n",
      "Valeur prédit est : left avec une confiance de 46.8683660030365%\n",
      "\n",
      "WARNING:tensorflow:5 out of the last 5 calls to <function Model.make_predict_function.<locals>.predict_function at 0x7f6bc7719510> triggered tf.function retracing. Tracing is expensive and the excessive number of tracings could be due to (1) creating @tf.function repeatedly in a loop, (2) passing tensors with different shapes, (3) passing Python objects instead of tensors. For (1), please define your @tf.function outside of the loop. For (2), @tf.function has experimental_relax_shapes=True option that relaxes argument shapes that can avoid unnecessary retracing. For (3), please refer to https://www.tensorflow.org/tutorials/customization/performance#python_or_tensor_args and https://www.tensorflow.org/api_docs/python/tf/function for  more details.\n",
      "[0.03046664 0.03126249 0.05361205 0.11231021 0.00546349 0.07302104\n",
      " 0.6938641 ]\n",
      "6\n",
      "Valeur prédit est : on avec une confiance de 69.3864107131958%\n",
      "\n",
      "WARNING:tensorflow:6 out of the last 6 calls to <function Model.make_predict_function.<locals>.predict_function at 0x7f6bc764e620> triggered tf.function retracing. Tracing is expensive and the excessive number of tracings could be due to (1) creating @tf.function repeatedly in a loop, (2) passing tensors with different shapes, (3) passing Python objects instead of tensors. For (1), please define your @tf.function outside of the loop. For (2), @tf.function has experimental_relax_shapes=True option that relaxes argument shapes that can avoid unnecessary retracing. For (3), please refer to https://www.tensorflow.org/tutorials/customization/performance#python_or_tensor_args and https://www.tensorflow.org/api_docs/python/tf/function for  more details.\n",
      "[0.0515501  0.04921091 0.05635419 0.08053076 0.00951201 0.5897054\n",
      " 0.16313665]\n",
      "5\n",
      "Valeur prédit est : up avec une confiance de 58.97054076194763%\n",
      "\n",
      "WARNING:tensorflow:7 out of the last 7 calls to <function Model.make_predict_function.<locals>.predict_function at 0x7f6bc764eea0> triggered tf.function retracing. Tracing is expensive and the excessive number of tracings could be due to (1) creating @tf.function repeatedly in a loop, (2) passing tensors with different shapes, (3) passing Python objects instead of tensors. For (1), please define your @tf.function outside of the loop. For (2), @tf.function has experimental_relax_shapes=True option that relaxes argument shapes that can avoid unnecessary retracing. For (3), please refer to https://www.tensorflow.org/tutorials/customization/performance#python_or_tensor_args and https://www.tensorflow.org/api_docs/python/tf/function for  more details.\n",
      "[9.9990499e-01 6.4529068e-08 5.5478955e-05 3.8211851e-07 9.9146894e-07\n",
      " 1.7223733e-06 3.6455294e-05]\n",
      "0\n",
      "Valeur prédit est : right avec une confiance de 99.9904990196228%\n",
      "\n"
     ]
    }
   ],
   "source": [
    "prediction('../audio_philippe.wav')\n",
    "prediction('../off_1605688283167.wav')\n",
    "prediction('../down.wav')\n",
    "prediction('../left_1605688901391.wav')\n",
    "prediction('../on.wav')\n",
    "prediction('../up_1605687833098.wav')\n",
    "prediction('../right_1605688777747.wav')"
   ]
  },
  {
   "cell_type": "code",
   "execution_count": null,
   "metadata": {},
   "outputs": [],
   "source": []
  }
 ],
 "metadata": {
  "kernelspec": {
   "display_name": "Python 3",
   "language": "python",
   "name": "python3"
  },
  "language_info": {
   "codemirror_mode": {
    "name": "ipython",
    "version": 3
   },
   "file_extension": ".py",
   "mimetype": "text/x-python",
   "name": "python",
   "nbconvert_exporter": "python",
   "pygments_lexer": "ipython3",
   "version": "3.8.0"
  }
 },
 "nbformat": 4,
 "nbformat_minor": 4
}
