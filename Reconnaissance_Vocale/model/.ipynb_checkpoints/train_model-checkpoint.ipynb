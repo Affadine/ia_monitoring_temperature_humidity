{
 "cells": [
  {
   "cell_type": "code",
   "execution_count": 1,
   "metadata": {},
   "outputs": [],
   "source": [
    "import json\n",
    "import numpy as np\n",
    "import tensorflow as tf\n",
    "import matplotlib.pyplot as plt\n",
    "from sklearn.model_selection import train_test_split\n",
    "\n",
    "DATA_PATH = \"../preparation_data/data.json\"\n",
    "MODEL_PATH = \"model.h5\"\n",
    "EPOCHS = 14\n",
    "BATCH_SIZE = 32\n",
    "PATIENCE = 5\n",
    "Nb_Classes = 7\n"
   ]
  },
  {
   "cell_type": "code",
   "execution_count": 2,
   "metadata": {},
   "outputs": [],
   "source": [
    "#Pour charger les données d'entrainement et de validation à partir du fichier data.json\n",
    "# x l'entrée\n",
    "# y la cible\n",
    "def charger_data(data_path):\n",
    "    \n",
    "    with open(data_path, \"r\") as fp:\n",
    "        data = json.load(fp)\n",
    "\n",
    "    X = np.array(data[\"MFCCs\"])\n",
    "    y = np.array(data[\"labels\"])\n",
    "    return X, y\n",
    "\n",
    "\n"
   ]
  },
  {
   "cell_type": "code",
   "execution_count": 3,
   "metadata": {},
   "outputs": [],
   "source": [
    "#Découper les données en 3, pour l'entrainnement, la validation et le test\n",
    "def decouper_tain_validate(data_path, test_size=0.2, validation_size=0.2):\n",
    "\n",
    "    # charger les données\n",
    "    X, y = charger_data(data_path)\n",
    "\n",
    "    #decoupage en 3 pour l'entrainnement, la validation et le test\n",
    "    X_train, X_test, y_train, y_test = train_test_split(X, y, test_size=test_size)\n",
    "    X_train, X_validation, y_train, y_validation = train_test_split(X_train, y_train, test_size=validation_size)\n",
    "\n",
    "    X_train = X_train[..., np.newaxis]\n",
    "    X_test = X_test[..., np.newaxis]\n",
    "    X_validation = X_validation[..., np.newaxis]\n",
    "\n",
    "    return X_train, y_train, X_validation, y_validation, X_test, y_test\n",
    "\n",
    "\n"
   ]
  },
  {
   "cell_type": "code",
   "execution_count": 4,
   "metadata": {},
   "outputs": [],
   "source": [
    "# Pour créer un modele Séquentiel de Convovolution (CNN)\n",
    "#  Le modèle se compose de trois blocs de convolution avec une couche de pool maximale dans chacun d'eux.\n",
    "# Il y a une couche entièrement connectée avec 64 unités au-dessus qui est activée par une fonction \n",
    "# d'activation relu .\n",
    "# Ce modèle n'a pas été réglé pour une grande précision tiré d'un tutoriel de classificatin standard\n",
    "\n",
    "def creer_model(input_shape, loss=\"sparse_categorical_crossentropy\", learning_rate=0.0001):\n",
    "   \n",
    "    model = tf.keras.models.Sequential()\n",
    "\n",
    "    # 1ere couche de convolution\n",
    "    model.add(tf.keras.layers.Conv2D(64, (3, 3), activation='relu', input_shape=input_shape,\n",
    "                                     kernel_regularizer=tf.keras.regularizers.l2(0.001)))\n",
    "    model.add(tf.keras.layers.BatchNormalization())\n",
    "    model.add(tf.keras.layers.MaxPooling2D((3, 3), strides=(2,2), padding='same'))\n",
    "\n",
    "    # 2ème couche de convolution\n",
    "    model.add(tf.keras.layers.Conv2D(32, (3, 3), activation='relu', kernel_regularizer=tf.keras.regularizers.l2(0.001)))\n",
    "    model.add(tf.keras.layers.BatchNormalization())\n",
    "    model.add(tf.keras.layers.MaxPooling2D((3, 3), strides=(2,2), padding='same'))\n",
    "\n",
    "    # 3ème couche de convolution\n",
    "    model.add(tf.keras.layers.Conv2D(32, (2, 2), activation='relu',\n",
    "                                     kernel_regularizer=tf.keras.regularizers.l2(0.001)))\n",
    "    model.add(tf.keras.layers.BatchNormalization())\n",
    "    model.add(tf.keras.layers.MaxPooling2D((2, 2), strides=(2,2), padding='same'))\n",
    "\n",
    "    tf.keras.layers.Dropout(0.25)\n",
    "    # couche dense de 64 unités \n",
    "    model.add(tf.keras.layers.Flatten())\n",
    "    model.add(tf.keras.layers.Dense(64, activation='relu'))\n",
    "    tf.keras.layers.Dropout(0.5)\n",
    "\n",
    "    # Couche de sortie avec le nombre de labels à predire\n",
    "    model.add(tf.keras.layers.Dense(Nb_Classes, activation='softmax'))\n",
    "\n",
    "    optimiser = tf.optimizers.Adam(learning_rate=learning_rate)\n",
    "\n",
    "    # compile model\n",
    "    model.compile(optimizer=optimiser,\n",
    "                  loss=loss,\n",
    "                  metrics=[\"accuracy\"])\n",
    "\n",
    "    model.summary()\n",
    "\n",
    "    return model\n"
   ]
  },
  {
   "cell_type": "code",
   "execution_count": 5,
   "metadata": {},
   "outputs": [],
   "source": [
    "# Pour entrainer le modele \n",
    "# epochs est le nombre d'iteration pour l'apprentissage\n",
    "# batch_size est léchantillons par lot\n",
    "# patience est le nombre d'itération à attendre avant de s'arrêter s'il n'y pas d'amélioration\n",
    "# X_train, y_train, X_validation, y_validation sont respectivement les données d'apprentissage et de validation\n",
    "def train(model, epochs, batch_size, patience, X_train, y_train, X_validation, y_validation):\n",
    "\n",
    "    earlystop_callback = tf.keras.callbacks.EarlyStopping(monitor=\"accuracy\", min_delta=0.001, patience=patience)\n",
    "\n",
    "    history = model.fit(X_train,\n",
    "                        y_train,\n",
    "                        epochs=epochs,\n",
    "                        batch_size=batch_size,\n",
    "                        validation_data=(X_validation, y_validation),\n",
    "                        callbacks=[earlystop_callback])\n",
    "    return history\n",
    "\n",
    "\n"
   ]
  },
  {
   "cell_type": "code",
   "execution_count": 6,
   "metadata": {},
   "outputs": [],
   "source": [
    "# Pour visualiser le taux de réussite/échec au fur de l'apprentisssage et de la validation\n",
    "def plot_history(history):\n",
    "    \n",
    "    fig, axs = plt.subplots(2)\n",
    "\n",
    "    axs[0].plot(history.history[\"accuracy\"], label=\"tarin_reussite\")\n",
    "    axs[0].plot(history.history['val_accuracy'], label=\"val_reussite\")\n",
    "    axs[0].set_ylabel(\"Reussite\")\n",
    "    axs[0].legend(loc=\"lower right\")\n",
    "    axs[0].set_title(\"evaluation réussite / perte\")\n",
    "\n",
    "    axs[1].plot(history.history[\"loss\"], label=\"tarain_echec\")\n",
    "    axs[1].plot(history.history['val_loss'], label=\"val_echec\")\n",
    "    axs[1].set_xlabel(\"Iterations\")\n",
    "    axs[1].set_ylabel(\"Echec\")\n",
    "    axs[1].legend(loc=\"upper right\")\n",
    "\n",
    "    plt.show()\n"
   ]
  },
  {
   "cell_type": "code",
   "execution_count": 7,
   "metadata": {},
   "outputs": [],
   "source": [
    "def main():\n",
    "    \n",
    "    # Découper les données en 3, pour l'entrainnement, la validation et le test\n",
    "    X_train, y_train, X_validation, y_validation, X_test, y_test = decouper_tain_validate(DATA_PATH)\n",
    "\n",
    "    # creation du modele\n",
    "    input_shape = (X_train.shape[1], X_train.shape[2], 1)\n",
    "    model = creer_model(input_shape)\n",
    "\n",
    "    # entrainer le modèle\n",
    "    history = train(model, EPOCHS, BATCH_SIZE, PATIENCE, X_train, y_train, X_validation, y_validation)\n",
    "\n",
    "    # visualisation\n",
    "    plot_history(history)\n",
    "\n",
    "    # evaluation du modèle \n",
    "    test_loss, test_acc = model.evaluate(X_test, y_test)\n",
    "    print(\"\\nTest loss: {}, test accuracy: {}\".format(test_loss, 100*test_acc))\n",
    "\n",
    "    # sauvegarder le modèle pour réutilisation\n",
    "    model.save(MODEL_PATH)\n"
   ]
  },
  {
   "cell_type": "code",
   "execution_count": 8,
   "metadata": {},
   "outputs": [
    {
     "name": "stdout",
     "output_type": "stream",
     "text": [
      "Model: \"sequential\"\n",
      "_________________________________________________________________\n",
      "Layer (type)                 Output Shape              Param #   \n",
      "=================================================================\n",
      "conv2d (Conv2D)              (None, 42, 11, 64)        640       \n",
      "_________________________________________________________________\n",
      "batch_normalization (BatchNo (None, 42, 11, 64)        256       \n",
      "_________________________________________________________________\n",
      "max_pooling2d (MaxPooling2D) (None, 21, 6, 64)         0         \n",
      "_________________________________________________________________\n",
      "conv2d_1 (Conv2D)            (None, 19, 4, 32)         18464     \n",
      "_________________________________________________________________\n",
      "batch_normalization_1 (Batch (None, 19, 4, 32)         128       \n",
      "_________________________________________________________________\n",
      "max_pooling2d_1 (MaxPooling2 (None, 10, 2, 32)         0         \n",
      "_________________________________________________________________\n",
      "conv2d_2 (Conv2D)            (None, 9, 1, 32)          4128      \n",
      "_________________________________________________________________\n",
      "batch_normalization_2 (Batch (None, 9, 1, 32)          128       \n",
      "_________________________________________________________________\n",
      "max_pooling2d_2 (MaxPooling2 (None, 5, 1, 32)          0         \n",
      "_________________________________________________________________\n",
      "flatten (Flatten)            (None, 160)               0         \n",
      "_________________________________________________________________\n",
      "dense (Dense)                (None, 64)                10304     \n",
      "_________________________________________________________________\n",
      "dense_1 (Dense)              (None, 7)                 455       \n",
      "=================================================================\n",
      "Total params: 34,503\n",
      "Trainable params: 34,247\n",
      "Non-trainable params: 256\n",
      "_________________________________________________________________\n",
      "Epoch 1/7\n",
      "256/256 [==============================] - 7s 28ms/step - loss: 1.7605 - accuracy: 0.3469 - val_loss: 1.4374 - val_accuracy: 0.4853\n",
      "Epoch 2/7\n",
      "256/256 [==============================] - 8s 31ms/step - loss: 1.2217 - accuracy: 0.5908 - val_loss: 1.0957 - val_accuracy: 0.6281\n",
      "Epoch 3/7\n",
      "256/256 [==============================] - 8s 31ms/step - loss: 0.9059 - accuracy: 0.7270 - val_loss: 0.8607 - val_accuracy: 0.7322\n",
      "Epoch 4/7\n",
      "256/256 [==============================] - 8s 31ms/step - loss: 0.7059 - accuracy: 0.8040 - val_loss: 0.6973 - val_accuracy: 0.7884\n",
      "Epoch 5/7\n",
      "256/256 [==============================] - 8s 31ms/step - loss: 0.5751 - accuracy: 0.8531 - val_loss: 0.5726 - val_accuracy: 0.8426\n",
      "Epoch 6/7\n",
      "256/256 [==============================] - 8s 31ms/step - loss: 0.4773 - accuracy: 0.8826 - val_loss: 0.5092 - val_accuracy: 0.8607\n",
      "Epoch 7/7\n",
      "256/256 [==============================] - 8s 31ms/step - loss: 0.4104 - accuracy: 0.9022 - val_loss: 0.4332 - val_accuracy: 0.8900\n"
     ]
    },
    {
     "data": {
      "image/png": "[encoded data removed]",
      "text/plain": [
       "<Figure size 432x288 with 2 Axes>"
      ]
     },
     "metadata": {
      "needs_background": "light"
     },
     "output_type": "display_data"
    },
    {
     "name": "stdout",
     "output_type": "stream",
     "text": [
      "80/80 [==============================] - 1s 7ms/step - loss: 0.4285 - accuracy: 0.8866\n",
      "\n",
      "Test loss: 0.4284918010234833, test accuracy: 88.66301774978638\n"
     ]
    }
   ],
   "source": [
    "if __name__ == \"__main__\":\n",
    "    main()"
   ]
  },
  {
   "cell_type": "code",
   "execution_count": null,
   "metadata": {},
   "outputs": [],
   "source": []
  }
 ],
 "metadata": {
  "kernelspec": {
   "display_name": "Python 3",
   "language": "python",
   "name": "python3"
  },
  "language_info": {
   "codemirror_mode": {
    "name": "ipython",
    "version": 3
   },
   "file_extension": ".py",
   "mimetype": "text/x-python",
   "name": "python",
   "nbconvert_exporter": "python",
   "pygments_lexer": "ipython3",
   "version": "3.6.9"
  }
 },
 "nbformat": 4,
 "nbformat_minor": 4
}
